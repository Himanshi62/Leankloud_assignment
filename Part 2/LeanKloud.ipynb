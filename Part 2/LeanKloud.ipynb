{
 "cells": [
  {
   "cell_type": "code",
   "execution_count": 50,
   "id": "6dea8534",
   "metadata": {},
   "outputs": [],
   "source": [
    "from csv import reader\n"
   ]
  },
  {
   "cell_type": "code",
   "execution_count": 51,
   "id": "da02e659",
   "metadata": {},
   "outputs": [],
   "source": [
    "def load_csv(filename):\n",
    "    file = open(filename,\"r\")\n",
    "    lines = reader(file)\n",
    "    data = list(lines)\n",
    "    return data"
   ]
  },
  {
   "cell_type": "code",
   "execution_count": 52,
   "id": "45c4f540",
   "metadata": {},
   "outputs": [],
   "source": [
    "data = load_csv(\"Student_marks_list.csv\")"
   ]
  },
  {
   "cell_type": "code",
   "execution_count": 53,
   "id": "9ae136ff",
   "metadata": {
    "scrolled": true
   },
   "outputs": [
    {
     "data": {
      "text/plain": [
       "[['Name', 'Maths', 'Biology', 'English', 'Physics', 'Chemistry', 'Hindi'],\n",
       " ['Praneeta', '86', '75', '98', '51', '60', '53'],\n",
       " ['Megha', '61', '54', '49', '71', '47', '65'],\n",
       " ['Jikku', '40', '75', '48', '91', '98', '53'],\n",
       " ['Naveen', '79', '46', '59', '77', '85', '45'],\n",
       " ['Praveen', '79', '57', '77', '95', '76', '82'],\n",
       " ['Satwik', '78', '68', '79', '88', '48', '90'],\n",
       " ['Aravind', '51', '44', '63', '63', '88', '99'],\n",
       " ['Teja', '47', '50', '62', '44', '51', '53'],\n",
       " ['Rohit', '88', '75', '73', '91', '51', '66'],\n",
       " ['Mahesh', '95', '40', '73', '65', '54', '98'],\n",
       " ['Manish', '71', '75', '67', '74', '54', '65'],\n",
       " ['Sumi', '71', '49', '43', '75', '72', '94'],\n",
       " ['Manasa', '99', '62', '68', '97', '99', '40'],\n",
       " ['Sandeep', '59', '76', '82', '87', '65', '80'],\n",
       " ['Vineeta', '41', '42', '68', '78', '40', '82'],\n",
       " ['Rohita', '61', '77', '96', '96', '64', '66'],\n",
       " ['Sagar', '98', '72', '68', '99', '50', '66'],\n",
       " ['Vivek', '65', '66', '93', '56', '99', '74'],\n",
       " ['Manodhar', '98', '68', '97', '53', '74', '98'],\n",
       " ['Priya', '48', '54', '52', '81', '64', '72'],\n",
       " ['Raja', '66', '90', '59', '78', '82', '53'],\n",
       " ['Harshitha', '85', '70', '55', '50', '62', '40'],\n",
       " ['Mehuli', '63', '45', '90', '99', '81', '76'],\n",
       " ['Sourav', '91', '59', '72', '63', '95', '98'],\n",
       " ['Joshua', '46', '95', '84', '80', '40', '57'],\n",
       " ['Sreeja', '63', '100', '72', '49', '77', '50'],\n",
       " ['Divya', '90', '90', '60', '71', '89', '65'],\n",
       " ['Bhavana', '59', '75', '92', '77', '89', '92'],\n",
       " ['Rajasekhar', '79', '41', '59', '42', '84', '98'],\n",
       " ['Maruti', '78', '43', '95', '63', '67', '50']]"
      ]
     },
     "execution_count": 53,
     "metadata": {},
     "output_type": "execute_result"
    }
   ],
   "source": [
    "data"
   ]
  },
  {
   "cell_type": "code",
   "execution_count": 54,
   "id": "32a9e5a8",
   "metadata": {},
   "outputs": [],
   "source": [
    "total_marks=[]"
   ]
  },
  {
   "cell_type": "code",
   "execution_count": 55,
   "id": "da1d24a6",
   "metadata": {},
   "outputs": [],
   "source": [
    "for i in range(1,31):\n",
    "    sum = 0\n",
    "    for j in range(1,7):\n",
    "        sum =sum + int(data[i][j])\n",
    "    total_marks.append(sum)"
   ]
  },
  {
   "cell_type": "code",
   "execution_count": 56,
   "id": "e242e6dd",
   "metadata": {},
   "outputs": [
    {
     "data": {
      "text/plain": [
       "[423,\n",
       " 347,\n",
       " 405,\n",
       " 391,\n",
       " 466,\n",
       " 451,\n",
       " 408,\n",
       " 307,\n",
       " 444,\n",
       " 425,\n",
       " 406,\n",
       " 404,\n",
       " 465,\n",
       " 449,\n",
       " 351,\n",
       " 460,\n",
       " 453,\n",
       " 453,\n",
       " 488,\n",
       " 371,\n",
       " 428,\n",
       " 362,\n",
       " 454,\n",
       " 478,\n",
       " 402,\n",
       " 411,\n",
       " 465,\n",
       " 484,\n",
       " 403,\n",
       " 396]"
      ]
     },
     "execution_count": 56,
     "metadata": {},
     "output_type": "execute_result"
    }
   ],
   "source": [
    "total_marks"
   ]
  },
  {
   "cell_type": "code",
   "execution_count": 57,
   "id": "58972e15",
   "metadata": {},
   "outputs": [],
   "source": [
    "math=[]\n",
    "for i in range(1,31):\n",
    "  math.append(int(data[i][1]))"
   ]
  },
  {
   "cell_type": "code",
   "execution_count": 58,
   "id": "822b0198",
   "metadata": {},
   "outputs": [],
   "source": [
    "bio=[]\n",
    "for i in range(1,31):\n",
    "  bio.append(int(data[i][2]))"
   ]
  },
  {
   "cell_type": "code",
   "execution_count": 59,
   "id": "a54fdfbb",
   "metadata": {},
   "outputs": [],
   "source": [
    "english=[]\n",
    "for i in range(1,31):\n",
    "  english.append(int(data[i][3]))"
   ]
  },
  {
   "cell_type": "code",
   "execution_count": 60,
   "id": "fbeb8281",
   "metadata": {},
   "outputs": [],
   "source": [
    "physics=[]\n",
    "for i in range(1,31):\n",
    "  physics.append(int(data[i][4]))"
   ]
  },
  {
   "cell_type": "code",
   "execution_count": 61,
   "id": "385119c7",
   "metadata": {},
   "outputs": [],
   "source": [
    "chemistry=[]\n",
    "for i in range(1,31):\n",
    "  chemistry.append(int(data[i][5]))"
   ]
  },
  {
   "cell_type": "code",
   "execution_count": 62,
   "id": "53424527",
   "metadata": {},
   "outputs": [],
   "source": [
    "hindi=[]\n",
    "for i in range(1,31):\n",
    "  hindi.append(int(data[i][6]))"
   ]
  },
  {
   "cell_type": "code",
   "execution_count": 63,
   "id": "43a8e715",
   "metadata": {},
   "outputs": [
    {
     "name": "stdout",
     "output_type": "stream",
     "text": [
      "Topper in Maths is Manasa\n"
     ]
    }
   ],
   "source": [
    "(m,i) = max((v,i) for i,v in enumerate(math))\n",
    "print(\"Topper in Maths is \"+ data[i+1][0])"
   ]
  },
  {
   "cell_type": "code",
   "execution_count": 64,
   "id": "2ffe9fac",
   "metadata": {},
   "outputs": [
    {
     "name": "stdout",
     "output_type": "stream",
     "text": [
      "Topper in Hindi is Aravind\n",
      "99 6\n"
     ]
    }
   ],
   "source": [
    "(n,j) = max((w,j) for j,w in enumerate(hindi))\n",
    "print(\"Topper in Hindi is \"+ data[j+1][0])\n",
    "print (n,j)"
   ]
  },
  {
   "cell_type": "code",
   "execution_count": 65,
   "id": "a1514533",
   "metadata": {},
   "outputs": [
    {
     "name": "stdout",
     "output_type": "stream",
     "text": [
      "Topper in Chemistry is Vivek\n",
      "99 17\n"
     ]
    }
   ],
   "source": [
    "(p,k) = max((x,k) for k,x in enumerate(chemistry))\n",
    "print(\"Topper in Chemistry is \"+ data[k+1][0])\n",
    "print (p,k)"
   ]
  },
  {
   "cell_type": "code",
   "execution_count": 66,
   "id": "32e87d88",
   "metadata": {},
   "outputs": [
    {
     "name": "stdout",
     "output_type": "stream",
     "text": [
      "Topper in English is Praneeta\n",
      "98 0\n"
     ]
    }
   ],
   "source": [
    "(s,l) = max((y,l) for l,y in enumerate(english))\n",
    "print(\"Topper in English is \"+ data[l+1][0])\n",
    "print (s,l)"
   ]
  },
  {
   "cell_type": "code",
   "execution_count": 67,
   "id": "c8d75180",
   "metadata": {},
   "outputs": [
    {
     "name": "stdout",
     "output_type": "stream",
     "text": [
      "Topper in Physics is Mehuli\n",
      "99 22\n"
     ]
    }
   ],
   "source": [
    "(t,r) = max((z,r) for r,z in enumerate(physics))\n",
    "print(\"Topper in Physics is \"+ data[r+1][0])\n",
    "print (t,r)"
   ]
  },
  {
   "cell_type": "code",
   "execution_count": 68,
   "id": "253fea97",
   "metadata": {},
   "outputs": [
    {
     "name": "stdout",
     "output_type": "stream",
     "text": [
      "Topper in Physics are Sagar and Mehuli\n",
      "99 22\n"
     ]
    }
   ],
   "source": [
    "indices = [i for i, x in enumerate(physics) if x == max(physics)]\n",
    "print(\"Topper in Physics are \"+ data[indices[0]+1][0] +\" and \"+ data[indices[1]+1][0])\n",
    "print (t,r)"
   ]
  },
  {
   "cell_type": "code",
   "execution_count": 69,
   "id": "c701562d",
   "metadata": {},
   "outputs": [
    {
     "data": {
      "text/plain": [
       "[16, 22]"
      ]
     },
     "execution_count": 69,
     "metadata": {},
     "output_type": "execute_result"
    }
   ],
   "source": [
    "indices"
   ]
  },
  {
   "cell_type": "code",
   "execution_count": 70,
   "id": "ef77cfe5",
   "metadata": {},
   "outputs": [
    {
     "name": "stdout",
     "output_type": "stream",
     "text": [
      "Topper in Biology is Sreeja\n",
      "100 25\n"
     ]
    }
   ],
   "source": [
    "(q,d) = max((z,d) for d,z in enumerate(bio))\n",
    "print(\"Topper in Biology is \"+ data[d+1][0])\n",
    "print (q,d)"
   ]
  },
  {
   "cell_type": "code",
   "execution_count": 71,
   "id": "fdaa67f6",
   "metadata": {},
   "outputs": [],
   "source": [
    "first = total_marks.index(max(total_marks))"
   ]
  },
  {
   "cell_type": "code",
   "execution_count": 72,
   "id": "f593c27e",
   "metadata": {},
   "outputs": [],
   "source": [
    "second = total_marks.index(sorted(zip(total_marks), reverse=True)[:3][1][0])"
   ]
  },
  {
   "cell_type": "code",
   "execution_count": 73,
   "id": "6aee6191",
   "metadata": {},
   "outputs": [],
   "source": [
    "third = total_marks.index(sorted(zip(total_marks), reverse=True)[:3][2][0])"
   ]
  },
  {
   "cell_type": "code",
   "execution_count": 74,
   "id": "0e4ce318",
   "metadata": {},
   "outputs": [
    {
     "name": "stdout",
     "output_type": "stream",
     "text": [
      "Best students in the class are Manodhar, Bhavana and Sourav\n"
     ]
    }
   ],
   "source": [
    "print(\"Best students in the class are \" + data[first+1][0] + \", \" + data[second+1][0] + \" and \" + data[third+1][0])"
   ]
  },
  {
   "cell_type": "code",
   "execution_count": null,
   "id": "d2fcba34",
   "metadata": {},
   "outputs": [],
   "source": []
  },
  {
   "cell_type": "code",
   "execution_count": null,
   "id": "80dd472e",
   "metadata": {},
   "outputs": [],
   "source": []
  }
 ],
 "metadata": {
  "kernelspec": {
   "display_name": "Python 3",
   "language": "python",
   "name": "python3"
  },
  "language_info": {
   "codemirror_mode": {
    "name": "ipython",
    "version": 3
   },
   "file_extension": ".py",
   "mimetype": "text/x-python",
   "name": "python",
   "nbconvert_exporter": "python",
   "pygments_lexer": "ipython3",
   "version": "3.8.8"
  }
 },
 "nbformat": 4,
 "nbformat_minor": 5
}
